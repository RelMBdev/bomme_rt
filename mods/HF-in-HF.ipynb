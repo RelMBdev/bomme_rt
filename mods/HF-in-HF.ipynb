{
 "cells": [
  {
   "cell_type": "code",
   "execution_count": 1,
   "id": "6f058441",
   "metadata": {},
   "outputs": [
    {
     "name": "stdout",
     "output_type": "stream",
     "text": [
      "High Level functional : hf\n",
      "\n",
      "Low Level functional : hf\n",
      "\n",
      "Low Level basis : 3-21G\n",
      "\n",
      "High Level basis : cc-pvdz\n",
      "\n",
      "0 1\n",
      "O1   0.000000000000   -0.000014000000   -0.348240000000\n",
      "H1   0.000000000000   0.760011000000   -0.932852000000\n",
      "H                     0.000000000000    -0.759996000000    -0.932908000000\n",
      "symmetry c1\n",
      "no_reorient\n",
      "no_com\n",
      "\n",
      "  Memory set to   1.863 GiB by Python driver.\n",
      "    Molecular point group: c1\n",
      "    Full point group: Cs\n",
      "\n",
      "    Geometry (in Angstrom), charge = 0, multiplicity = 1:\n",
      "\n",
      "       Center              X                  Y                   Z               Mass       \n",
      "    ------------   -----------------  -----------------  -----------------  -----------------\n",
      "         O            0.000000000000    -0.000014000000    -0.348240000000    15.994914619570\n",
      "         H            0.000000000000     0.760011000000    -0.932852000000     1.007825032230\n",
      "         H            0.000000000000    -0.759996000000    -0.932908000000     1.007825032230\n",
      "\n",
      "centers of high level subsys: 2\n",
      "Number of shells of the total AB basis:  11\n",
      "Number of functions of the total AB basis:  21\n",
      "functions in subsys1: 19\n",
      "using native psi4 JK class, real-time  imag. HF exchange required: False\n",
      "\n",
      "eri is instance: <class 'NoneType'>\n",
      "\n",
      "using DIRECT scf and JK class\n",
      "\n"
     ]
    }
   ],
   "source": [
    "import os\n",
    "import sys\n",
    "import psi4\n",
    "import numpy as np\n",
    "\n",
    "sys.path.insert(0, \"./common\")\n",
    "modpaths = os.environ.get('MODS_PATH')\n",
    "\n",
    "if modpaths is not None :\n",
    "    for path in modpaths.split(\";\"):\n",
    "        sys.path.append(path)\n",
    "from scf_run import run\n",
    "from init_run import initialize\n",
    "\n",
    "bset,bsetH, molelecule_str, psi4mol, wfn, jkobj = initialize(True,'DIRECT','cc-pvdz','3-21G','H2O1.xyz',\\\n",
    "                   'hf','hf',0,eri=None,rt_HF_iexch=False)\n",
    "\n",
    "mints = psi4.core.MintsHelper(bset)\n",
    "\n",
    "S = np.array(mints.ao_overlap())\n",
    "numbas = bset.nbf()\n",
    "\n",
    "I_Size = (numbas**4) * 8.e-9\n",
    "nbfA = bsetH.nbf()\n",
    "\n",
    "#make U matrix\n",
    "U = np.eye(numbas)\n",
    "S11=S[:nbfA,:nbfA]\n",
    "S11_inv=np.linalg.inv(S11)\n",
    "S12 =S[:nbfA,nbfA:]\n",
    "P=np.matmul(S11_inv,S12)\n",
    "U[:nbfA,nbfA:]=-1.0*P\n",
    "\n",
    "#S block orthogonal\n",
    "Stilde= np.matmul(U.T,np.matmul(S,U))\n"
   ]
  },
  {
   "cell_type": "code",
   "execution_count": 2,
   "id": "6e70e881",
   "metadata": {},
   "outputs": [],
   "source": [
    "mints = psi4.core.MintsHelper(bset)\n",
    "#intialize fock_factory\n",
    "from Fock_helper import fock_factory\n",
    "Hcore = np.asarray(mints.ao_potential()) + np.asarray(mints.ao_kinetic())"
   ]
  },
  {
   "cell_type": "code",
   "execution_count": 3,
   "id": "73115c95",
   "metadata": {},
   "outputs": [
    {
     "data": {
      "text/plain": [
       "True"
      ]
     },
     "execution_count": 3,
     "metadata": {},
     "output_type": "execute_result"
    }
   ],
   "source": [
    "from Fock_helper import fock_factory\n",
    "Cocc = np.array(wfn.Ca_subset('AO','OCC'))\n",
    "Dmat_test= np.matmul(Cocc,Cocc.T)\n",
    "fock_base = fock_factory(jkobj,Hcore,S, \\\n",
    "                            funcname='hf',basisobj=bset,exmodel=0)\n",
    "\n",
    "Fock_test = fock_base.get_bblock_Fock(None,np.array(wfn.Da()),func_acc='hf',basis_acc=bsetH,U=np.eye(U.shape[0]))\n",
    "np.allclose(np.array(wfn.Da()),Dmat_test)"
   ]
  },
  {
   "cell_type": "code",
   "execution_count": 4,
   "id": "484d070d",
   "metadata": {},
   "outputs": [],
   "source": [
    "Fa=np.array(wfn.Fa())"
   ]
  },
  {
   "cell_type": "code",
   "execution_count": 5,
   "id": "3fd6fd9a",
   "metadata": {},
   "outputs": [
    {
     "data": {
      "text/plain": [
       "True"
      ]
     },
     "execution_count": 5,
     "metadata": {},
     "output_type": "execute_result"
    }
   ],
   "source": [
    "np.allclose(Fa,Fock_test)"
   ]
  },
  {
   "cell_type": "code",
   "execution_count": 6,
   "id": "94c7ec0b",
   "metadata": {},
   "outputs": [],
   "source": [
    "fock_base_BO = fock_factory(jkobj,Hcore,Stilde, \\\n",
    "                            funcname='hf',basisobj=bset,exmodel=0)\n",
    "\n",
    "U_inv = np.linalg.inv(U)\n",
    "\n",
    "Dmat_BO = np.matmul(U_inv,np.matmul(Dmat_test,U_inv.T))\n",
    "Fock_test = fock_base_BO.get_bblock_Fock(None,Dmat_BO,func_acc='hf',basis_acc=bsetH,U=U)\n"
   ]
  },
  {
   "cell_type": "code",
   "execution_count": 7,
   "id": "c94375e5",
   "metadata": {},
   "outputs": [
    {
     "data": {
      "text/plain": [
       "True"
      ]
     },
     "execution_count": 7,
     "metadata": {},
     "output_type": "execute_result"
    }
   ],
   "source": [
    "np.allclose(np.matmul(U.T,np.matmul(Fa,U)),Fock_test)"
   ]
  },
  {
   "cell_type": "code",
   "execution_count": null,
   "id": "a186bcf7",
   "metadata": {},
   "outputs": [],
   "source": []
  }
 ],
 "metadata": {
  "kernelspec": {
   "display_name": "Python 3 (ipykernel)",
   "language": "python",
   "name": "python3"
  },
  "language_info": {
   "codemirror_mode": {
    "name": "ipython",
    "version": 3
   },
   "file_extension": ".py",
   "mimetype": "text/x-python",
   "name": "python",
   "nbconvert_exporter": "python",
   "pygments_lexer": "ipython3",
   "version": "3.8.16"
  }
 },
 "nbformat": 4,
 "nbformat_minor": 5
}
