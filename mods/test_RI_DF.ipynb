{
 "cells": [
  {
   "cell_type": "code",
   "execution_count": 1,
   "id": "47051272",
   "metadata": {},
   "outputs": [
    {
     "name": "stdout",
     "output_type": "stream",
     "text": [
      "\n",
      "  Memory set to   1.863 GiB by Python driver.\n"
     ]
    }
   ],
   "source": [
    "# ==> Psi4 & NumPy options, Geometry Definition <==\n",
    "import numpy as np\n",
    "import psi4\n",
    "\n",
    "# Set numpy defaults\n",
    "np.set_printoptions(precision=5, linewidth=200, suppress=True)\n",
    "\n",
    "# Set Psi4 memory & output options\n",
    "psi4.set_memory(int(2e9))\n",
    "psi4.core.set_output_file('output.dat', False)\n",
    "\n",
    "# Geometry specification\n",
    "mol = psi4.geometry(\"\"\"\n",
    "O\n",
    "H 1 0.96\n",
    "H 1 0.96 2 104.5\n",
    "symmetry c1\n",
    "\"\"\")\n",
    "\n",
    "# Psi4 options\n",
    "psi4.set_options({'basis': 'aug-cc-pvdz',\n",
    "                  'scf_type': 'direct',\n",
    "                  'e_convergence': 1e-10,\n",
    "                  'd_convergence': 1e-10})\n",
    "\n",
    "wfn = psi4.core.Wavefunction.build(mol, psi4.core.get_global_option('basis'))"
   ]
  },
  {
   "cell_type": "code",
   "execution_count": 2,
   "id": "c73fa58f",
   "metadata": {},
   "outputs": [],
   "source": [
    "aux = psi4.core.BasisSet.build(mol, \"DF_BASIS_SCF\", \"\", \"RIFIT\", \"aug-cc-pVDZ\")"
   ]
  },
  {
   "cell_type": "code",
   "execution_count": 3,
   "id": "eff63aee",
   "metadata": {},
   "outputs": [],
   "source": [
    "# ==> Build Density-Fitted Integrals <==\n",
    "# Get orbital basis & build zero basis\n",
    "orb = wfn.basisset()\n",
    "zero_bas = psi4.core.BasisSet.zero_ao_basis_set()\n",
    "\n",
    "# Build instance of MintsHelper\n",
    "mints = psi4.core.MintsHelper(orb)\n",
    "\n",
    "# Build (P|pq) raw 3-index ERIs, dimension (1, Naux, nbf, nbf)\n",
    "Ppq = mints.ao_eri(aux, zero_bas, orb, orb)\n",
    "\n",
    "# Build & invert Coulomb metric, dimension (1, Naux, 1, Naux)\n",
    "metric = mints.ao_eri(aux, zero_bas, aux, zero_bas)\n",
    "metric.power(-0.5, 1.e-14)\n",
    "\n",
    "# Remove excess dimensions of Ppq, & metric\n",
    "Ppq = np.squeeze(Ppq)\n",
    "metric = np.squeeze(metric)\n",
    "\n",
    "# Build the Qso object\n",
    "Qpq = np.einsum('QP,Ppq->Qpq', metric, Ppq, optimize=True)"
   ]
  },
  {
   "cell_type": "code",
   "execution_count": null,
   "id": "54fdf3d4",
   "metadata": {},
   "outputs": [],
   "source": []
  }
 ],
 "metadata": {
  "kernelspec": {
   "display_name": "Python 3 (ipykernel)",
   "language": "python",
   "name": "python3"
  },
  "language_info": {
   "codemirror_mode": {
    "name": "ipython",
    "version": 3
   },
   "file_extension": ".py",
   "mimetype": "text/x-python",
   "name": "python",
   "nbconvert_exporter": "python",
   "pygments_lexer": "ipython3",
   "version": "3.8.16"
  }
 },
 "nbformat": 4,
 "nbformat_minor": 5
}
