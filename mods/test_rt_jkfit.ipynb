{
 "cells": [
  {
   "cell_type": "markdown",
   "id": "cd9b3c77",
   "metadata": {},
   "source": [
    "**TASKS**:\n",
    "- use the initialize() function to get the basis set instances and the jkfactory object \n",
    "- get overlap matrix (S) in the AO basis (basis_gen)\n",
    "- set the U matrix -> block orthogonalize the overlap\n",
    "\n",
    "Note that :\n",
    "\n",
    "The density matrix in the AO basis and the corresponding matrix in the BO basis are related by\n",
    "$$ D^{ao} = U \\tilde{D} U^{\\dagger} $$\n",
    "Morover $ U^{-1} D^{ao} (U^{\\dagger})^{-1} = \\tilde{D} $. $U$ is not orthogonal ($U^{-1} != U^{\\dagger}$).\n",
    "\n",
    "Correspondingly the matrix representation of a given operator in the BO basis can be obtained from the AO basis representation as:\n",
    "$$ \\tilde{O} = U^{\\dagger} O^{ao} U $$"
   ]
  },
  {
   "cell_type": "code",
   "execution_count": 1,
   "id": "6f658d8b",
   "metadata": {},
   "outputs": [
    {
     "name": "stdout",
     "output_type": "stream",
     "text": [
      "test mixed basis / functionals\n",
      "High Level functional : b3lyp\n",
      "\n",
      "Low Level functional : blyp\n",
      "\n",
      "number of fragmemts: 2\n",
      "\n",
      "functions in general basis: 21\n",
      "functions in subsys1: 19\n",
      "\n",
      "Size of the ERI tensor will be 0.00 GB.\n",
      "eri n. axis: 4\n",
      "eri is instance: <class 'numpy.ndarray'>\n",
      "\n",
      "jkfactory -> eri tensor provided, real-time HF exch required: False\n",
      "AB block of overlap (in BO basis) is zero: True\n"
     ]
    }
   ],
   "source": [
    "### \n",
    "import os\n",
    "import sys\n",
    "import psi4\n",
    "import numpy as np\n",
    "\n",
    "sys.path.insert(0, \"./common\")\n",
    "modpaths = os.environ.get('MODS_PATH')\n",
    "\n",
    "if modpaths is not None :\n",
    "    for path in modpaths.split(\";\"):\n",
    "        sys.path.append(path)\n",
    "from scf_run import run\n",
    "from init_run import initialize\n",
    "from Fock_helper import fock_factory\n",
    "print(\"test mixed basis / functionals\")\n",
    "func_high = 'b3lyp'\n",
    "func_low = 'blyp'\n",
    "bset,bsetH, molelecule_str, psi4mol, wfn, jkobj = initialize(False,'DIRECT','3-21G;O1:def2-svp;H1:def2-svp','1',\\\n",
    "                                                             'H2O1.xyz',func_high,func_low,eri='nofit',debug=True)\n",
    "\n",
    "mints = psi4.core.MintsHelper(bset)\n",
    "#I = np.array(mints.ao_eri())\n",
    "\n",
    "H = np.array(mints.ao_kinetic())+ np.array(mints.ao_potential())\n",
    "S = np.array(mints.ao_overlap())\n",
    "numbas = bset.nbf() #get the number of basis function belonging to bset (the low-level-theory basis)\n",
    "\n",
    "nbfA = bsetH.nbf() #get the number of basis function belonging to bsetH (the high-level-theory basis)\n",
    "\n",
    "#make U matrix for blend basis(cc-pvdz+3-21G)\n",
    "U = np.eye(numbas)\n",
    "S11=S[:nbfA,:nbfA]\n",
    "S11_inv=np.linalg.inv(S11)\n",
    "S12 =S[:nbfA,nbfA:]\n",
    "P=np.matmul(S11_inv,S12)\n",
    "U[:nbfA,nbfA:]=-1.0*P\n",
    "\n",
    "#S block orthogonal\n",
    "Stilde= np.matmul(U.T,np.matmul(S,U))\n",
    "\n",
    "\n",
    "mtest=np.zeros((nbfA,(numbas-nbfA)))\n",
    "print(\"AB block of overlap (in BO basis) is zero: %s\" %(np.allclose(Stilde[:nbfA,nbfA:],mtest)))\n"
   ]
  },
  {
   "cell_type": "markdown",
   "id": "c029f6af",
   "metadata": {},
   "source": [
    "---------------------------------------------------------\n",
    "**Use fock_factory to get the Fock in BO basis**\n",
    "\n",
    "A fock_factory instance can be initialized as:\n",
    "\n",
    "fock_engine = **fock_factory**(jk_fact,Hmat,ovapm,*funcname*=None,*basisobj*=None,*exmodel*=0)\n",
    "\n",
    "input: \n",
    "\n",
    "- jk_fact: the jk object obtained from the \"initialize\" function\n",
    "- Hmat: the $ H_{core}$ matrix in the AO basis\n",
    "- ovapm: the basis function overlap matrix. Only needed when we work in the density matrix framework, i.e\n",
    "  forming $ SDS $, and diagonalizing the \"density operator\" we get natural orbitals. ovapm can be either $\\tilde{S}$   or $S^{ao}$ depending on the basis we are working, respectively, BO or AO basis\n",
    "- funcname: the functional corresponding to the low level theory, when BO embedding is intended. Otherwise is the     usual functional in a supermolecular calculation.\n",
    "- basis object: same as funcname\n",
    "- exmodel : exchange model, 0 is assumed, see Manby-Miller and Parkhill papers\n",
    "\n",
    "fock_factory has many methods:\n",
    "\n",
    "- **get_bblock_Fock**(self,*Cocc*=None,*Dmat*=None,*func_acc*=None,*basis_acc*=None,*U*=None,*return_ene*=False). This function can accept either the matrix containing MO coefficients or the density matrix (in the appropriate basis). **basis_acc** and **func_acc** denote the 'high-level-theory' basis object and functional respectively. $U$ has to be passed as numpy.ndarray \n",
    "- **get_Fock**(self,*Cocc*=None,*Dmat*=None,*return_ene*=False). This method can be used to get the usual supermolecular Fock matrix corresponding to $C_{occ}$/$D_{mat}$, *funcname* and *basisobj* (see the intialization)\n",
    "\n",
    "\n",
    "\n",
    "\n",
    "**TASK**\n",
    "- test the b3lyp-in-blyp case\n",
    "- perform a full scf calculation using scf_run.run()\n",
    "- run() functions declaration: \n",
    "\n",
    "**run**(jkclass,embmol,bset,bsetH,guess,func_h,func_l,exmodel,wfn)\n",
    "- jkclass : True|False, enable native Psi4 JK class \n",
    "- embmol  : Psi4 molecule object\n",
    "- bset    : total basis set object\n",
    "- bsetH   : 'high-level-theory' fragment basis set object\n",
    "- guess   : specify the type of initial guess 'GS'|'SAD' (i.e ground state/sum of atomic densities)\n",
    "- func_h  : 'high-level-theory' fragment functional\n",
    "- func_l  : 'low-level-theory' fragment functional\n",
    "- exmodel : exact exchange model, default = 0\n",
    "- wfn     : Psi4 wavefunction object (correspondig to 'func_l' run"
   ]
  },
  {
   "cell_type": "code",
   "execution_count": 2,
   "id": "6af1f5d0",
   "metadata": {},
   "outputs": [
    {
     "name": "stdout",
     "output_type": "stream",
     "text": [
      "F(BO) dim: 21,21\n",
      "\n"
     ]
    }
   ],
   "source": [
    "Cocc = np.array(wfn.Ca_subset('AO','OCC'))\n",
    "\n",
    "try:\n",
    "    U_inv = np.linalg.inv(U)\n",
    "except np.linalg.LinAlgError:\n",
    "    print(\"Error in numpy.linalg.inv of inputted matrix\")\n",
    "\n",
    "Cocc = np.matmul(U_inv,Cocc)\n",
    "Dinput = np.matmul(Cocc,Cocc.T)\n",
    "fockbase = fock_factory(jkobj,H,Stilde,funcname=func_low,basisobj=bset) #Stilde as overlap matrix\n",
    "F_bblock = fockbase.get_bblock_Fock(Dmat=Dinput,func_acc=func_high,basis_acc=bsetH,U=U)\n",
    "\n",
    "print(\"F(BO) dim: %i,%i\\n\" % (F_bblock.shape[0],F_bblock.shape[1]))\n",
    "\n"
   ]
  },
  {
   "cell_type": "code",
   "execution_count": 3,
   "id": "67138eb5",
   "metadata": {},
   "outputs": [],
   "source": [
    "#define the embopt dataclass\n",
    "import fde_utils\n",
    "from fde_utils import embedoption\n",
    "pyembopt = embedoption\n",
    "pyembopt.nofde = True #skip FDE=True, normally passed from input as --fde -> pyembopt.nofde = not args.fde "
   ]
  },
  {
   "cell_type": "code",
   "execution_count": 4,
   "id": "325a1d9e",
   "metadata": {},
   "outputs": [
    {
     "name": "stdout",
     "output_type": "stream",
     "text": [
      "Overlap_AA in BO is Overlap_AA in AO: True\n",
      "Overlap_AB in BO is zero: True\n",
      "using EX model: ......... 0\n",
      "\n",
      "\n",
      "Number of occupied orbitals: 5\n",
      "\n",
      "using as guess the density from the low level theory hamiltonian\n",
      "\n",
      "Start SCF iterations:\n",
      "\n",
      "\n",
      "SCF Iteration   1: Energy = -76.3472224073081094   dE = -7.63472E+01   dRMS = 1.39404E-03\n",
      "SCF Iteration   2: Energy = -76.3476167551444433   dE = -3.94348E-04   dRMS = 3.48690E-04\n",
      "SCF Iteration   3: Energy = -76.3476174444848397   dE = -6.89340E-07   dRMS = 3.70139E-04\n",
      "SCF Iteration   4: Energy = -76.3476390034645220   dE = -2.15590E-05   dRMS = 3.99263E-05\n",
      "SCF Iteration   5: Energy = -76.3476392634172498   dE = -2.59953E-07   dRMS = 3.39390E-06\n",
      "SCF Iteration   6: Energy = -76.3476392652796250   dE = -1.86238E-09   dRMS = 3.51387E-07\n",
      "SCF Iteration   7: Energy = -76.3476392652982696   dE = -1.86446E-11   dRMS = 6.33270E-08\n",
      "SCF Iteration   8: Energy = -76.3476392652989375   dE = -6.67910E-13   dRMS = 7.55661E-09\n",
      "Total time for SCF iterations: 4.327 seconds \n",
      "\n",
      "\n",
      "Final scf BO energy: -76.34763927 hartree\n",
      "\n",
      "Orbital (BO) Energies [Eh]\n",
      "\n",
      "Doubly Occupied:\n",
      "\n",
      "1A : -19.112944\n",
      "2A : -0.982307\n",
      "3A : -0.516714\n",
      "4A : -0.362454\n",
      "5A : -0.290447\n",
      "Virtual:\n",
      "\n",
      "6A : 0.056658\n",
      "7A : 0.152047\n",
      "8A : 0.603089\n",
      "9A : 0.848560\n",
      "10A : 0.921669\n",
      "11A : 0.929445\n",
      "12A : 1.060609\n",
      "13A : 1.133453\n",
      "14A : 1.436425\n",
      "15A : 1.561976\n",
      "16A : 2.242830\n",
      "17A : 2.608437\n",
      "18A : 2.908813\n",
      "19A : 2.988679\n",
      "20A : 3.041398\n",
      "21A : 3.688129\n",
      "Final SCF (Density Corrected) energy: -76.32489230 hartree\n",
      "\n",
      "\n",
      "electric dipole moment in ea0\n",
      "\n",
      "x : -0.00000000, y : -0.05563915, z : 7.95022024\n",
      "\n",
      "Compare wfn.Da() and Dscf. SUCCESS: False\n",
      "\n",
      "Max of the abs density difference : 8.859962788086e-03\n",
      "\n"
     ]
    }
   ],
   "source": [
    "\n",
    "res, wfnBO = run(jkobj,psi4mol,bset,bsetH,'GS',func_high,func_low,0,wfn,pyembopt)\n"
   ]
  },
  {
   "cell_type": "code",
   "execution_count": 5,
   "id": "15f6ebd6",
   "metadata": {},
   "outputs": [
    {
     "name": "stdout",
     "output_type": "stream",
     "text": [
      "Doubly Occupied: (blyp / b3lyp-in-blyp)\n",
      "\n",
      "1A : -18.757985 | -19.112944\n",
      "2A : -0.885721 | -0.982307\n",
      "3A : -0.458443 | -0.516714\n",
      "4A : -0.297654 | -0.362454\n",
      "5A : -0.222960 | -0.290447\n",
      "Virtual:\n",
      "\n",
      "6A : 0.033236 | 0.056658\n",
      "7A : 0.126856 | 0.152047\n",
      "8A : 0.556727 | 0.603089\n",
      "9A : 0.821197 | 0.848560\n",
      "10A : 0.866244 | 0.921669\n",
      "11A : 0.882004 | 0.929445\n",
      "12A : 1.018074 | 1.060609\n",
      "13A : 1.092564 | 1.133453\n",
      "14A : 1.388193 | 1.436425\n",
      "15A : 1.519533 | 1.561976\n",
      "16A : 2.173896 | 2.242830\n",
      "17A : 2.536124 | 2.608437\n",
      "18A : 2.836908 | 2.908813\n",
      "19A : 2.911465 | 2.988679\n",
      "20A : 2.982020 | 3.041398\n",
      "21A : 3.601674 | 3.688129\n"
     ]
    }
   ],
   "source": [
    "#compare the b3lyp-in-blyp orbital enegies/total energy to pure blylp\n",
    "eps_a = np.array( wfn.epsilon_a() )\n",
    "ndocc = wfnBO['ndocc']\n",
    "print('Doubly Occupied: (%s / %s-in-%s)\\n' % (func_low,func_high,func_low))\n",
    "for k in range(ndocc):\n",
    "    print('%iA : %.6f | %.6f' %(k+1,eps_a[k],wfnBO['epsilon_a'][k]))\n",
    "\n",
    "print('Virtual:\\n')\n",
    "\n",
    "for k in range(ndocc,numbas):\n",
    "    print('%iA : %.6f | %.6f'% (k+1,eps_a[k],wfnBO['epsilon_a'][k]))\n"
   ]
  },
  {
   "cell_type": "code",
   "execution_count": 6,
   "id": "32e1f32a",
   "metadata": {},
   "outputs": [],
   "source": [
    "#get Density matrix and Fock(0) from wfnBO\n",
    "\n",
    "tD = wfnBO['Dmtx']\n",
    "tFock = wfnBO['Fock']\n",
    "U = wfnBO['Umat']\n",
    "C = wfnBO['Ccoeff'] \n",
    "Stilde = wfnBO['Ovap'] \n",
    "# get rt params\n",
    "from rt_mod import set_params\n",
    "pulse_opts, calc_params = set_params('./ipynotebook/input.inp')\n",
    "delta_t = calc_params['delta_t']\n"
   ]
  },
  {
   "cell_type": "code",
   "execution_count": 7,
   "id": "616c6957",
   "metadata": {},
   "outputs": [],
   "source": [
    "#initialize the mints object\n",
    "mints = psi4.core.MintsHelper(bset)\n",
    "#intialize fock_factory\n",
    "from Fock_helper import fock_factory\n",
    "Hcore = np.asarray(mints.ao_potential()) + np.asarray(mints.ao_kinetic())\n",
    "\n",
    "fock_base = fock_factory(jkobj,Hcore,Stilde, \\\n",
    "                            funcname=func_low,basisobj=bset,exmodel=0)\n"
   ]
  },
  {
   "cell_type": "code",
   "execution_count": 8,
   "id": "479eeec2",
   "metadata": {},
   "outputs": [],
   "source": [
    "#dip_mat is transformed in the BO basis\n",
    "dipole=mints.ao_dipole()\n",
    "direction = 2 # i.e z-dir\n",
    "dip_mat=np.matmul(U.T,np.matmul(np.array(dipole[direction]),U))\n"
   ]
  },
  {
   "cell_type": "markdown",
   "id": "cfcbabdf",
   "metadata": {},
   "source": [
    "class **real_time**():\n",
    "\n",
    "initialization params:\n",
    "\n",
    "- *Dinit* : intial density matrix (t=0)\n",
    "- *Fock_init* : guess Fock matrix\n",
    "- *fock_factory* : fock factory object\n",
    "- *ndocc* : number of doubly occupied MO\n",
    "- *basis* : supermolecular basis set object\n",
    "- *Smat* : overlap matrix (representation dependent, can be either BO or AO)\n",
    "- *pulse_opts* : pulse paramter dictionary\n",
    "- *delta_t* : time-step\n",
    "- *Cmat* : matrix used get the relevant quantities to the propagation basis Cmat = $C_{coeff}$ {or $S^{-1/2}$}\n",
    "- *dipmat* : matrix representation of dipole operator (either on BO or AO basis)\n",
    "- out_file=sys.stderr :output err file\n",
    "\n",
    "the following parameters have defaults values, if not speciefied  the real-time object \n",
    "should lead to the same results of supermolecular calculation.\n",
    "\n",
    "- basis_acc = None : the small 'high-level-theory' basis set object\n",
    "- func_acc=None : the 'high-level-theory' functional\n",
    "- U=None : the U matrix -> $\\tilde{S} = U^{T}SU$\n",
    "- local_basis=False : Bool, enable local basis (RLMO localization scheme)\n",
    "- exA_only=False : Bool , restrict the excitation to basis_acc subblock elements (nbfA $\\times$ nbfA) of dipole\n",
    "- occlist=None : a list containting identifiers of occupied MOs, to be used in occ->virt excitation\n",
    "- virtlist=None : a list containting identifiers of virtual MOs\n"
   ]
  },
  {
   "cell_type": "code",
   "execution_count": 9,
   "id": "55205f11",
   "metadata": {},
   "outputs": [],
   "source": [
    "from rt_base import real_time\n",
    "rt_prop = real_time(tD, tFock, fock_base, ndocc, bset, Stilde, pulse_opts, delta_t, C, dip_mat,\\\n",
    "            out_file=sys.stderr,  basis_acc = bsetH, func_acc=func_high,U=U,local_basis=False,\\\n",
    "                                             exA_only=False,occlist=None, virtlist=None)"
   ]
  },
  {
   "cell_type": "code",
   "execution_count": 10,
   "id": "0080fbe8",
   "metadata": {},
   "outputs": [
    {
     "name": "stdout",
     "output_type": "stream",
     "text": [
      "Perturb density with analytic delta\n",
      "Dipole matrix is transformed to the MO basis\n",
      "\n",
      "Local basis: False\n",
      "\n"
     ]
    }
   ],
   "source": [
    "Dp_init , Da = rt_prop.init_boost()"
   ]
  },
  {
   "cell_type": "code",
   "execution_count": 11,
   "id": "a0085a4d",
   "metadata": {},
   "outputs": [],
   "source": [
    "rt_prop()"
   ]
  },
  {
   "cell_type": "code",
   "execution_count": 12,
   "id": "81eb3559",
   "metadata": {},
   "outputs": [
    {
     "name": "stdout",
     "output_type": "stream",
     "text": [
      "1\n"
     ]
    }
   ],
   "source": [
    "print(rt_prop.iter_num())"
   ]
  },
  {
   "cell_type": "code",
   "execution_count": 13,
   "id": "9471acdd",
   "metadata": {},
   "outputs": [],
   "source": [
    "for k in range(rt_prop.iter_num(),10):\n",
    "    rt_prop()"
   ]
  },
  {
   "cell_type": "code",
   "execution_count": 14,
   "id": "a40fb720",
   "metadata": {},
   "outputs": [
    {
     "name": "stdout",
     "output_type": "stream",
     "text": [
      " trace of DS in AO 5.00000\n",
      "\n"
     ]
    },
    {
     "name": "stderr",
     "output_type": "stream",
     "text": [
      "/tmp/ipykernel_23273/696474344.py:10: ComplexWarning: Casting complex values to real discards the imaginary part\n",
      "  print(\" trace of DS in AO %.5f\\n\" % np.trace(trace))\n"
     ]
    }
   ],
   "source": [
    "# get the the density matrix at step 10 (AO)\n",
    "# get a corresponding Fock, J and K ..\n",
    "# set a new jk factory using native PS4 jkclass and fitted eri to get the imaginary part\n",
    "Dmat_test_bo = rt_prop.get_Dmat('AO')  # the density matrix is expressed in a non-orthogonal basis (either AO or BO)\n",
    "#trace = np.matmul(Dmat_test,Stilde)\n",
    "#print(\" trace of DS in BO %.5f\\n\" % np.trace(trace))\n",
    "#in the AO basis\n",
    "Dmat_test = np.matmul(U,np.matmul(Dmat_test_bo,U.T))\n",
    "trace = np.matmul(Dmat_test,S)\n",
    "print(\" trace of DS in AO %.5f\\n\" % np.trace(trace))"
   ]
  },
  {
   "cell_type": "code",
   "execution_count": 15,
   "id": "abde6c6e",
   "metadata": {},
   "outputs": [],
   "source": [
    "Fock_test = fock_base.get_bblock_Fock(None,Dmat_test_bo,func_acc=func_high,basis_acc=bsetH,U=U)\n",
    "J_ao = fock_base.J(None,Dmat=Dmat_test)\n",
    "K_ao = fock_base.K(None,Dmat=Dmat_test)"
   ]
  },
  {
   "cell_type": "code",
   "execution_count": 16,
   "id": "7ff94c12",
   "metadata": {},
   "outputs": [
    {
     "name": "stdout",
     "output_type": "stream",
     "text": [
      "High Level functional : b3lyp\n",
      "\n",
      "Low Level functional : blyp\n",
      "\n",
      "number of fragmemts: 2\n",
      "\n",
      "functions in general basis: 21\n",
      "functions in subsys1: 19\n",
      "\n",
      "Size of the 3-index ERI tensor will be 0.00 GB.\n",
      "eri shape [113,21,21]\n",
      "eri n. axis: 3\n",
      "eri is instance: <class 'numpy.ndarray'>\n",
      "\n",
      "using DIRECT scf and JK class\n",
      "\n",
      "jkfactory -> eri tensor provided, real-time HF exch required: True\n",
      "jkfactory -> JK psi4 class being in use!!\n"
     ]
    }
   ],
   "source": [
    "# re init with different setup\n",
    "dum1,dum2, dum3, dum4, dum5, jkfact_pure = initialize(True,'DIRECT','3-21G;O1:def2-svp;H1:def2-svp','1','H2O1.xyz',\\\n",
    "                   func_high,func_low,eri='fit',rt_HF_iexch=True)"
   ]
  },
  {
   "cell_type": "code",
   "execution_count": 17,
   "id": "e6e0ae68",
   "metadata": {},
   "outputs": [],
   "source": [
    "fock_base_pure = fock_factory(jkfact_pure,Hcore,Stilde, \\\n",
    "                            funcname=func_low,basisobj=bset,exmodel=0)"
   ]
  },
  {
   "cell_type": "code",
   "execution_count": 18,
   "id": "83b0641d",
   "metadata": {},
   "outputs": [],
   "source": [
    "Fock_test_pure = fock_base_pure.get_bblock_Fock(None,Dmat_test_bo,func_acc=func_high,basis_acc=bsetH,U=U)"
   ]
  },
  {
   "cell_type": "code",
   "execution_count": 19,
   "id": "d52cb756",
   "metadata": {},
   "outputs": [
    {
     "name": "stdout",
     "output_type": "stream",
     "text": [
      "False\n",
      "1.1090800354528287e-06\n"
     ]
    }
   ],
   "source": [
    "print(np.allclose(Fock_test_pure,Fock_test))\n",
    "print(np.max(np.abs(Fock_test_pure-Fock_test)))"
   ]
  },
  {
   "cell_type": "code",
   "execution_count": 20,
   "id": "a0477a72",
   "metadata": {},
   "outputs": [
    {
     "name": "stdout",
     "output_type": "stream",
     "text": [
      "True\n"
     ]
    }
   ],
   "source": [
    "#get Cocc from Dmat_test (AO)\n",
    "import scipy\n",
    "ndocc = int(np.rint(np.trace(np.matmul(Dmat_test,S)).real))\n",
    "#    print(ndocc)\n",
    "#    diagonalize to get Cocc\n",
    "den_op = np.matmul(S,np.matmul(Dmat_test.real,S))\n",
    "w, v  = scipy.linalg.eigh(den_op,S)\n",
    "idx_w = w.argsort()[::-1]\n",
    "w = w[idx_w]\n",
    "v = v[:,idx_w]\n",
    "Cocc = v[:,:ndocc]\n",
    "check =  np.matmul(Cocc,Cocc.T)\n",
    "print(np.allclose(check,Dmat_test.real))"
   ]
  },
  {
   "cell_type": "code",
   "execution_count": 21,
   "id": "cc97c547",
   "metadata": {},
   "outputs": [],
   "source": [
    "J_internal_ao = fock_base_pure.get_Fterm('coul')"
   ]
  },
  {
   "cell_type": "code",
   "execution_count": 22,
   "id": "72b8090c",
   "metadata": {},
   "outputs": [],
   "source": [
    "J_pure_ao = fock_base_pure.J(Cocc,Dmat_test)\n",
    "K_pure_ao = fock_base_pure.K(Cocc,Dmat_test)"
   ]
  },
  {
   "cell_type": "code",
   "execution_count": 23,
   "id": "3748ef24",
   "metadata": {},
   "outputs": [
    {
     "name": "stdout",
     "output_type": "stream",
     "text": [
      "True\n",
      "True\n",
      "True\n"
     ]
    }
   ],
   "source": [
    "print(np.allclose(J_pure_ao,J_internal_ao))\n",
    "print(np.allclose(J_ao,J_internal_ao))\n",
    "\n",
    "print(np.allclose(K_ao.real,K_pure_ao.real))"
   ]
  },
  {
   "cell_type": "code",
   "execution_count": 24,
   "id": "3f5dba28",
   "metadata": {},
   "outputs": [],
   "source": [
    "np.savetxt('K_pure.out',K_pure_ao.imag)"
   ]
  },
  {
   "cell_type": "code",
   "execution_count": 25,
   "id": "56d153c1",
   "metadata": {},
   "outputs": [],
   "source": [
    "np.savetxt('K_eri.out',K_ao.imag)\n",
    "np.savetxt('K_eri_real.out',K_ao.real)"
   ]
  },
  {
   "cell_type": "code",
   "execution_count": 26,
   "id": "0f10a7d2",
   "metadata": {},
   "outputs": [
    {
     "data": {
      "text/plain": [
       "1.956579342987652e-11"
      ]
     },
     "execution_count": 26,
     "metadata": {},
     "output_type": "execute_result"
    }
   ],
   "source": [
    "np.max(np.abs(K_ao.real-K_pure_ao.real))"
   ]
  },
  {
   "cell_type": "code",
   "execution_count": 27,
   "id": "3b0153ab",
   "metadata": {},
   "outputs": [
    {
     "data": {
      "text/plain": [
       "5.561713924519798e-06"
      ]
     },
     "execution_count": 27,
     "metadata": {},
     "output_type": "execute_result"
    }
   ],
   "source": [
    "np.max(np.abs(K_ao.imag-K_pure_ao.imag))"
   ]
  },
  {
   "cell_type": "code",
   "execution_count": 28,
   "id": "85f2bab9",
   "metadata": {},
   "outputs": [
    {
     "name": "stdout",
     "output_type": "stream",
     "text": [
      "(8.956203853260433+5.729375747974292e-15j)\n",
      "(8.956203853169303+5.729364313029504e-15j)\n"
     ]
    }
   ],
   "source": [
    "print(np.trace(np.matmul(K_ao,Dmat_test)))\n",
    "print(np.trace(np.matmul(K_pure_ao,Dmat_test)))"
   ]
  },
  {
   "cell_type": "code",
   "execution_count": null,
   "id": "56b25b1c",
   "metadata": {},
   "outputs": [],
   "source": []
  }
 ],
 "metadata": {
  "kernelspec": {
   "display_name": "Python 3 (ipykernel)",
   "language": "python",
   "name": "python3"
  },
  "language_info": {
   "codemirror_mode": {
    "name": "ipython",
    "version": 3
   },
   "file_extension": ".py",
   "mimetype": "text/x-python",
   "name": "python",
   "nbconvert_exporter": "python",
   "pygments_lexer": "ipython3",
   "version": "3.8.17"
  }
 },
 "nbformat": 4,
 "nbformat_minor": 5
}
