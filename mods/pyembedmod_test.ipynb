{
 "cells": [
  {
   "cell_type": "markdown",
   "id": "97c4c952",
   "metadata": {},
   "source": [
    "Simple test showing use of pyembmod"
   ]
  },
  {
   "cell_type": "code",
   "execution_count": 1,
   "id": "62fd97e7",
   "metadata": {},
   "outputs": [],
   "source": [
    "import os.path\n",
    "import sys\n",
    "import os\n",
    "import numpy as np\n",
    "\n",
    "import argparse\n",
    "modpaths = os.environ.get('PYBERTHA_MOD_PATH')\n",
    "\n",
    "if modpaths is not None :\n",
    "    for path in modpaths.split(\";\"):\n",
    "        sys.path.append(path)\n",
    "\n",
    "sys.path.insert(0, \"../common\")\n",
    "modpaths = os.environ.get('COMMON_PATH')\n",
    "\n",
    "if modpaths is not None :\n",
    "    for path in modpaths.split(\";\"):\n",
    "        sys.path.append(path)\n"
   ]
  },
  {
   "cell_type": "code",
   "execution_count": 2,
   "id": "37034582",
   "metadata": {},
   "outputs": [],
   "source": [
    "import fde_utils\n",
    "from fde_utils import embedoption\n",
    "#import pyembmod\n",
    "from pyembmod import GridDensityFactory\n",
    "\n"
   ]
  },
  {
   "cell_type": "code",
   "execution_count": 3,
   "id": "4b92b231",
   "metadata": {},
   "outputs": [],
   "source": [
    "pyembopt = embedoption\n",
    "\n",
    "pyembopt.gridfname = 'grid_adf.dat'\n",
    "\n",
    "pyembopt.debug = True\n",
    "#pyembopt.linemb = False\n",
    "#pyembopt.nofde = False\n",
    "#pyembopt.verbosity = args.verbosity\n",
    "#pyembopt.thresh = args.thresh\n",
    "#pyembopt.static_field = 0.00\n",
    "#pyembopt.fmax = None\n",
    "#pyembopt.fdir = None\n",
    "pyembopt.tot_charge = 0\n",
    "pyembopt.core_charge = 0\n",
    "pyembopt.activefile = 'H2O.xyz'\n",
    "pyembopt.envirofile = 'NH3.xyz'\n",
    "pyembopt.gtype = 2\n",
    "pyembopt.jobtype = 'psi4'\n",
    "pyembopt.thresh_conv = 1.0e-8\n",
    "pyembopt.basis = 'cc-pvtz'  #<- refers to the (FDE) environment \n",
    "pyembopt.excfuncenv = 'blyp'\n",
    "\n",
    "gparam = \"50,230\".split(\",\")\n",
    "\n",
    "if pyembopt.jobtype == 'adf':\n",
    "  gparam = [float(m) for m in gparam]\n",
    "  if not isinstance(gparam[0],float):\n",
    "     raise TypeError(\"adf grid(param) accuracy must be float\")\n",
    "  pyembopt.param = gparam[0]\n",
    "else:\n",
    "  gparam = [int(m) for m in gparam]\n",
    "  pyembopt.param = tuple(gparam)\n"
   ]
  },
  {
   "cell_type": "code",
   "execution_count": 4,
   "id": "5ddda036",
   "metadata": {},
   "outputs": [
    {
     "name": "stdout",
     "output_type": "stream",
     "text": [
      "(50, 230)\n",
      "embfactory Options:\n",
      "pyemb job type : psi4, grid type : 2, functional (enviro) : blyp, e/d thresh : 1.00e-08\n",
      "grid specs (accuracy / radial & spherical points)\n",
      "(50, 230)\n",
      "      N    -1.395591   -0.021564    0.000037\n",
      "      H    -1.629811    0.961096   -0.106224\n",
      "      H    -1.862767   -0.512544   -0.755974\n",
      "      H    -1.833547   -0.330770    0.862307\n",
      "0 1\n",
      "symmetry c1\n",
      "no_com\n",
      "no_reorient\n",
      "\n",
      "PHI dim: 69124,72\n",
      "\n",
      "N. basis functions: 72\n",
      "\n",
      "N. grid points 69124\n",
      "\n",
      "env num el. 9.99999\n",
      "\n",
      "n. el act sys: 10.09603402\n",
      "\n"
     ]
    }
   ],
   "source": [
    "# psi4 minimal set up\n",
    "import psi4\n",
    "from molecule import Molecule\n",
    "mol_act = Molecule(pyembopt.activefile)\n",
    "mol_act.finalize()\n",
    "psi4.core.set_output_file('psi.out', False)\n",
    "act_obs =  'cc-pvdz'\n",
    "molobj=psi4.geometry(mol_act.geometry())\n",
    "psi4.set_options({'basis': act_obs,\n",
    "                      'puream': 'True',\n",
    "                      'DF_SCF_GUESS': 'False',\n",
    "                      'scf_type': 'DIRECT',\n",
    "                      'dft_radial_scheme' : 'becke',\n",
    "                      #'dft_radial_points': 49,\n",
    "                      'dft_spherical_points' : 434,\n",
    "                      'cubeprop_tasks': ['orbitals'],\n",
    "                      'e_convergence': 1e-8,\n",
    "                      'd_convergence': 1e-8})\n",
    "ene,wfn = psi4.energy('b3lyp',return_wfn=True)\n",
    "Cocc = np.array(wfn.Ca_subset('AO', 'OCC'))\n",
    "embed = fde_utils.emb_wrapper(molobj,pyembopt,act_obs)\n",
    "# here we need the active system density expressed on the grid\n",
    "\n",
    "embed.set_density(Cocc)\n",
    "nel_ACT =embed.rho_integral()\n",
    "# use GridDensityFactory\n",
    "#grid = embed.grid()\n",
    "#activesys = GridDensityFactory(molobj,grid,act_obs)\n",
    "\n",
    "#if isinstance(Cocc,np.ndarray):\n",
    "#      rho = activesys.from_Cocc(Cocc)\n",
    "#elif Dmat is not None: #also ovap has to be != None\n",
    "#      rho = activesys.from_D(Dmat,self.__ovap)\n",
    "#check number of electron\n",
    "#nel_ACT = np.matmul(rho,grid[:,3])\n",
    "print(\"n. el act sys: %.8f\\n\" % (nel_ACT))\n",
    "res = embed.make_embpot()\n",
    "\n",
    "\n"
   ]
  },
  {
   "cell_type": "code",
   "execution_count": 5,
   "id": "2a1bc77a",
   "metadata": {},
   "outputs": [
    {
     "name": "stdout",
     "output_type": "stream",
     "text": [
      "chek Vemb dim\n",
      "(24, 24)\n"
     ]
    }
   ],
   "source": [
    "print(\"chek Vemb dim\")\n",
    "print(res.shape)"
   ]
  },
  {
   "cell_type": "code",
   "execution_count": 6,
   "id": "9b1c5dae",
   "metadata": {},
   "outputs": [
    {
     "data": {
      "text/plain": [
       "24"
      ]
     },
     "execution_count": 6,
     "metadata": {},
     "output_type": "execute_result"
    }
   ],
   "source": [
    "wfn.basisset().nbf()"
   ]
  },
  {
   "cell_type": "code",
   "execution_count": null,
   "id": "1cee9d39",
   "metadata": {},
   "outputs": [],
   "source": []
  }
 ],
 "metadata": {
  "kernelspec": {
   "display_name": "Python 3 (ipykernel)",
   "language": "python",
   "name": "python3"
  },
  "language_info": {
   "codemirror_mode": {
    "name": "ipython",
    "version": 3
   },
   "file_extension": ".py",
   "mimetype": "text/x-python",
   "name": "python",
   "nbconvert_exporter": "python",
   "pygments_lexer": "ipython3",
   "version": "3.8.17"
  }
 },
 "nbformat": 4,
 "nbformat_minor": 5
}
