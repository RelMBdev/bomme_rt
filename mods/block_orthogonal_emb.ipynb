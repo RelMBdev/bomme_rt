{
 "cells": [
  {
   "cell_type": "markdown",
   "id": "73222d82",
   "metadata": {},
   "source": [
    "**initialize**(False,'DIRECT','3-21G','1','H2O1.xyz',\n",
    "                   func_high,func_low,*eri*='nofit')\n",
    "                   \n",
    "//...\n",
    "\n",
    "**return** basis_gen,basis_acc, molstring,psi4mol,wfn,jkbase\n",
    "\n",
    "input: (in order of appearence)\n",
    "- jkflag : if True; native Psi4 JK class is used to compute J and K matrices\n",
    "- scf_type : set the scf type calculation ('DIRECT', 'DF_MEM', 'DF_DISK', 'PK'). It affects the type of\n",
    "  integrals being used (if jkflag=True) and the initial density guess\n",
    "- obs1 : orbital basis set string \"genbasis;El1:basis1;El2:basis2 ..\" \n",
    "- frag_spec : [type: str] specify a semicolon-seperated id (integer) sequence of fragments to include in the high\n",
    "   level region\n",
    "- fgeom : geometry file\n",
    "- func1 : functional for 'high-level-theory' frag\n",
    "- func2 : functional for 'low-level-theory' frag\n",
    "- charge : charge of the whole system. (Singlet state is assumed)\n",
    "- eri : when specified, set the the type of electron-repulsion integrals in use ('nofit'; 'fit')\n",
    "\n",
    "output:\n",
    "- basis_acc : the basis object of the 'high-level-theory' frag\n",
    "- basis_gen : the basis object of the 'low-level-theory' frag\n",
    "- molstring : a string containing geometry of the entire system\n",
    "- psi4_mol  : psi4 geometry object of  the entire system\n",
    "- wfn: psi4 wavefunction object\n",
    "- jkbase : the jkfactory object"
   ]
  },
  {
   "cell_type": "markdown",
   "id": "cd9b3c77",
   "metadata": {},
   "source": [
    "**TASKS**:\n",
    "- from basis_gen get the Psi4 mints object (mints is responsible for integrals in Psi4NumPy, see manual)\n",
    "- get overlap matrix (S) in the AO basis (basis_gen)\n",
    "- set the U matrix -> block orthogonalize the overlap\n",
    "\n",
    "The density matrix in the AO basis and the corresponding matrix in the BO basis are related by\n",
    "$$ D^{ao} = U \\tilde{D} U^{\\dagger} $$\n",
    "Morover $ U^{-1} D^{ao} (U^{\\dagger})^{-1} = \\tilde{D} $. $U$ is not orthogonal ($U^{-1} != U^{\\dagger}$).\n",
    "\n",
    "Correspondingly the matrix representation of a given operator in the BO basis can be obtained from the AO basis representation as:\n",
    "$$ \\tilde{O} = U^{\\dagger} O^{ao} U $$"
   ]
  },
  {
   "cell_type": "code",
   "execution_count": 2,
   "id": "bd2e9a06",
   "metadata": {},
   "outputs": [
    {
     "name": "stdout",
     "output_type": "stream",
     "text": [
      "test mixed basis / functionals\n",
      "High Level functional : b3lyp\n",
      "\n",
      "Low Level functional : b3lyp\n",
      "\n",
      "number of fragmemts: 2\n",
      "\n",
      "functions in general basis: 13\n",
      "functions in subsys1: 11\n",
      "The low-level-theory functional requires HF exch\n",
      "\n",
      "Size of the ERI tensor will be 0.00 GB.\n",
      "eri n. axis: 4\n",
      "eri is instance: <class 'numpy.ndarray'>\n",
      "\n",
      "jkfactory -> eri tensor provided, real-time HF exch required: False\n",
      "AB block of overlap (in BO basis) is zero: True\n"
     ]
    }
   ],
   "source": [
    "import os\n",
    "import sys\n",
    "import psi4\n",
    "import numpy as np\n",
    "\n",
    "sys.path.insert(0, \"./common\")\n",
    "modpaths = os.environ.get('MODS_PATH')\n",
    "\n",
    "if modpaths is not None :\n",
    "    for path in modpaths.split(\";\"):\n",
    "        sys.path.append(path)\n",
    "from scf_run import run\n",
    "from init_run import initialize\n",
    "from Fock_helper import fock_factory\n",
    "print(\"test mixed basis / functionals\")\n",
    "func_high = 'b3lyp'\n",
    "func_low = 'b3lyp'\n",
    "bset,bsetH, molelecule_str, psi4mol, wfn, jkobj = initialize(False,'DIRECT','3-21G','1','H2O1.xyz',\\\n",
    "                   func_high,func_low,eri='nofit')\n",
    "\n",
    "mints = psi4.core.MintsHelper(bset)\n",
    "#I = np.array(mints.ao_eri())\n",
    "\n",
    "H = np.array(mints.ao_kinetic())+ np.array(mints.ao_potential())\n",
    "S = np.array(mints.ao_overlap())\n",
    "numbas = bset.nbf() #get the number of basis function belonging to bset (the low-level-theory basis)\n",
    "\n",
    "nbfA = bsetH.nbf() #get the number of basis function belonging to bsetH (the high-level-theory basis)\n",
    "\n",
    "#make U matrix for blend basis(cc-pvdz+3-21G)\n",
    "U = np.eye(numbas)\n",
    "S11=S[:nbfA,:nbfA]\n",
    "S11_inv=np.linalg.inv(S11)\n",
    "S12 =S[:nbfA,nbfA:]\n",
    "P=np.matmul(S11_inv,S12)\n",
    "U[:nbfA,nbfA:]=-1.0*P\n",
    "\n",
    "#S block orthogonal\n",
    "Stilde= np.matmul(U.T,np.matmul(S,U))\n",
    "\n",
    "\n",
    "mtest=np.zeros((nbfA,(numbas-nbfA)))\n",
    "print(\"AB block of overlap (in BO basis) is zero: %s\" %(np.allclose(Stilde[:nbfA,nbfA:],mtest)))\n"
   ]
  },
  {
   "cell_type": "markdown",
   "id": "c029f6af",
   "metadata": {},
   "source": [
    "---------------------------------------------------------\n",
    "**Use fock_factory to get the Fock in BO basis**\n",
    "\n",
    "A fock_factory instance can be initialized as:\n",
    "\n",
    "fock_engine = **fock_factory**(jk_fact,Hmat,ovapm,*funcname*=None,*basisobj*=None,*exmodel*=0)\n",
    "\n",
    "input: \n",
    "\n",
    "- jk_fact: the jk object obtained from the \"initialize\" function\n",
    "- Hmat: the $ H_{core}$ matrix in the AO basis\n",
    "- ovapm: the basis function overlap matrix. Only needed when we work in the density matrix framework, i.e\n",
    "  forming $ SDS $, and diagonalizing the \"density operator\" we get natural orbitals. ovapm can be either $\\tilde{S}$   or $S^{ao}$ depending on the basis we are working, respectively, BO or AO basis\n",
    "- funcname: the functional corresponding to the low level theory, when BO embedding is intended. Otherwise is the     usual functional in a supermolecular calculation.\n",
    "- basis object: same as funcname\n",
    "- exmodel : exchange model, 0 is assumed, see Manby-Miller and Parkhill papers\n",
    "\n",
    "fock_factory has many methods:\n",
    "\n",
    "- **get_bblock_Fock**(self,*Cocc*=None,*Dmat*=None,*func_acc*=None,*basis_acc*=None,*U*=None,*return_ene*=False). This function can accept either the matrix containing MO coefficients or the density matrix (in the appropriate basis). **basis_acc** and **func_acc** denote the 'high-level-theory' basis object and functional respectively. $U$ has to be passed as numpy.ndarray \n",
    "- **get_Fock**(self,*Cocc*=None,*Dmat*=None,*return_ene*=False). This method can be used to get the usual supermolecular Fock matrix corresponding to $C_{occ}$/$D_{mat}$, *funcname* and *basisobj* (see the intialization)\n",
    "\n",
    "\n",
    "For this \"b3lyp-in-b3lyp\" test we can retrive the orbitals ($C_{occ}$) from the Psi4 wfn object.\n",
    "\n",
    "**TASK**:\n",
    "- transform the orbitals from the AO basis to the BO basis (using $U^{-1}$)\n",
    "-  define an input density matrix (BO basis)\n",
    "- define the reference Fock (from Psi4 wfn), and do the trasformation $\\tilde{F} = U^{\\dagger} F^{ao} U$ \n",
    "- compare the two matrices"
   ]
  },
  {
   "cell_type": "code",
   "execution_count": 3,
   "id": "6af1f5d0",
   "metadata": {},
   "outputs": [
    {
     "name": "stdout",
     "output_type": "stream",
     "text": [
      "F(BO) dim: 13,13\n",
      "\n",
      "test GGA/hybrid Fock Block-Orth.: Passed .... True\n",
      "\n"
     ]
    }
   ],
   "source": [
    "Cocc = np.array(wfn.Ca_subset('AO','OCC'))\n",
    "\n",
    "try:\n",
    "    U_inv = np.linalg.inv(U)\n",
    "except np.linalg.LinAlgError:\n",
    "    print(\"Error in numpy.linalg.inv of inputted matrix\")\n",
    "\n",
    "Cocc = np.matmul(U_inv,Cocc)\n",
    "Dinput = np.matmul(Cocc,Cocc.T)\n",
    "fockbase = fock_factory(jkobj,H,Stilde,funcname=func_low,basisobj=bset) #Stilde as overlap matrix\n",
    "F_bblock = fockbase.get_bblock_Fock(Dmat=Dinput,func_acc=func_high,basis_acc=bsetH,U=U)\n",
    "\n",
    "print(\"F(BO) dim: %i,%i\\n\" % (F_bblock.shape[0],F_bblock.shape[1]))\n",
    "Test_H = np.matmul(U.T,np.matmul(wfn.Fa(),U))\n",
    "\n",
    "test = np.allclose(F_bblock,Test_H,atol=1.0e-12)\n",
    "print(\"test GGA/hybrid Fock Block-Orth.: Passed .... %s\\n\" % test)\n"
   ]
  },
  {
   "cell_type": "code",
   "execution_count": null,
   "id": "325a1d9e",
   "metadata": {},
   "outputs": [],
   "source": []
  }
 ],
 "metadata": {
  "kernelspec": {
   "display_name": "Python 3 (ipykernel)",
   "language": "python",
   "name": "python3"
  },
  "language_info": {
   "codemirror_mode": {
    "name": "ipython",
    "version": 3
   },
   "file_extension": ".py",
   "mimetype": "text/x-python",
   "name": "python",
   "nbconvert_exporter": "python",
   "pygments_lexer": "ipython3",
   "version": "3.8.17"
  }
 },
 "nbformat": 4,
 "nbformat_minor": 5
}
