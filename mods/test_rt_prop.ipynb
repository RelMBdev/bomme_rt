{
 "cells": [
  {
   "cell_type": "markdown",
   "id": "cd9b3c77",
   "metadata": {},
   "source": [
    "**TASKS**:\n",
    "- use the initialize() function to get the basis set instances and the jkfactory object \n",
    "- get overlap matrix (S) in the AO basis (basis_gen)\n",
    "- set the U matrix -> block orthogonalize the overlap\n",
    "\n",
    "Note that :\n",
    "\n",
    "The density matrix in the AO basis and the corresponding matrix in the BO basis are related by\n",
    "$$ D^{ao} = U \\tilde{D} U^{\\dagger} $$\n",
    "Morover $ U^{-1} D^{ao} (U^{\\dagger})^{-1} = \\tilde{D} $. $U$ is not orthogonal ($U^{-1} != U^{\\dagger}$).\n",
    "\n",
    "Correspondingly the matrix representation of a given operator in the BO basis can be obtained from the AO basis representation as:\n",
    "$$ \\tilde{O} = U^{\\dagger} O^{ao} U $$"
   ]
  },
  {
   "cell_type": "code",
   "execution_count": 1,
   "id": "6f658d8b",
   "metadata": {},
   "outputs": [
    {
     "name": "stdout",
     "output_type": "stream",
     "text": [
      "test mixed basis / functionals\n",
      "High Level functional : b3lyp\n",
      "\n",
      "Low Level functional : blyp\n",
      "\n",
      "number of fragmemts: 2\n",
      "\n",
      "functions in general basis: 13\n",
      "functions in subsys1: 11\n",
      "\n",
      "Size of the ERI tensor will be 0.00 GB.\n",
      "eri n. axis: 4\n",
      "eri is instance: <class 'numpy.ndarray'>\n",
      "\n",
      "jkfactory -> eri tensor provided, real-time HF exch required: False\n",
      "AB block of overlap (in BO basis) is zero: True\n"
     ]
    }
   ],
   "source": [
    "### \n",
    "import os\n",
    "import sys\n",
    "import psi4\n",
    "import numpy as np\n",
    "\n",
    "sys.path.insert(0, \"./common\")\n",
    "modpaths = os.environ.get('MODS_PATH')\n",
    "\n",
    "if modpaths is not None :\n",
    "    for path in modpaths.split(\";\"):\n",
    "        sys.path.append(path)\n",
    "from scf_run import run\n",
    "from init_run import initialize\n",
    "from Fock_helper import fock_factory\n",
    "print(\"test mixed basis / functionals\")\n",
    "func_high = 'b3lyp'\n",
    "func_low = 'blyp'\n",
    "bset,bsetH, molelecule_str, psi4mol, wfn, jkobj = initialize(False,'DIRECT','3-21G','1','H2O1.xyz',\\\n",
    "                   func_high,func_low,eri='nofit')\n",
    "\n",
    "mints = psi4.core.MintsHelper(bset)\n",
    "#I = np.array(mints.ao_eri())\n",
    "\n",
    "H = np.array(mints.ao_kinetic())+ np.array(mints.ao_potential())\n",
    "S = np.array(mints.ao_overlap())\n",
    "numbas = bset.nbf() #get the number of basis function belonging to bset (the low-level-theory basis)\n",
    "\n",
    "nbfA = bsetH.nbf() #get the number of basis function belonging to bsetH (the high-level-theory basis)\n",
    "\n",
    "#make U matrix for blend basis(cc-pvdz+3-21G)\n",
    "U = np.eye(numbas)\n",
    "S11=S[:nbfA,:nbfA]\n",
    "S11_inv=np.linalg.inv(S11)\n",
    "S12 =S[:nbfA,nbfA:]\n",
    "P=np.matmul(S11_inv,S12)\n",
    "U[:nbfA,nbfA:]=-1.0*P\n",
    "\n",
    "#S block orthogonal\n",
    "Stilde= np.matmul(U.T,np.matmul(S,U))\n",
    "\n",
    "\n",
    "mtest=np.zeros((nbfA,(numbas-nbfA)))\n",
    "print(\"AB block of overlap (in BO basis) is zero: %s\" %(np.allclose(Stilde[:nbfA,nbfA:],mtest)))\n"
   ]
  },
  {
   "cell_type": "markdown",
   "id": "c029f6af",
   "metadata": {},
   "source": [
    "---------------------------------------------------------\n",
    "**Use fock_factory to get the Fock in BO basis**\n",
    "\n",
    "A fock_factory instance can be initialized as:\n",
    "\n",
    "fock_engine = **fock_factory**(jk_fact,Hmat,ovapm,*funcname*=None,*basisobj*=None,*exmodel*=0)\n",
    "\n",
    "input: \n",
    "\n",
    "- jk_fact: the jk object obtained from the \"initialize\" function\n",
    "- Hmat: the $ H_{core}$ matrix in the AO basis\n",
    "- ovapm: the basis function overlap matrix. Only needed when we work in the density matrix framework, i.e\n",
    "  forming $ SDS $, and diagonalizing the \"density operator\" we get natural orbitals. ovapm can be either $\\tilde{S}$   or $S^{ao}$ depending on the basis we are working, respectively, BO or AO basis\n",
    "- funcname: the functional corresponding to the low level theory, when BO embedding is intended. Otherwise is the     usual functional in a supermolecular calculation.\n",
    "- basis object: same as funcname\n",
    "- exmodel : exchange model, 0 is assumed, see Manby-Miller and Parkhill papers\n",
    "\n",
    "fock_factory has many methods:\n",
    "\n",
    "- **get_bblock_Fock**(self,*Cocc*=None,*Dmat*=None,*func_acc*=None,*basis_acc*=None,*U*=None,*return_ene*=False). This function can accept either the matrix containing MO coefficients or the density matrix (in the appropriate basis). **basis_acc** and **func_acc** denote the 'high-level-theory' basis object and functional respectively. $U$ has to be passed as numpy.ndarray \n",
    "- **get_Fock**(self,*Cocc*=None,*Dmat*=None,*return_ene*=False). This method can be used to get the usual supermolecular Fock matrix corresponding to $C_{occ}$/$D_{mat}$, *funcname* and *basisobj* (see the intialization)\n",
    "\n",
    "\n",
    "\n",
    "\n",
    "**TASK**\n",
    "- test the b3lyp-in-blyp case\n",
    "- perform a full scf calculation using scf_run.run()\n",
    "- run() functions declaration: \n",
    "\n",
    "**run**(jkclass,embmol,bset,bsetH,guess,func_h,func_l,exmodel,wfn)\n",
    "- jkclass : True|False, enable native Psi4 JK class \n",
    "- embmol  : Psi4 molecule object\n",
    "- bset    : total basis set object\n",
    "- bsetH   : 'high-level-theory' fragment basis set object\n",
    "- guess   : specify the type of initial guess 'GS'|'SAD' (i.e ground state/sum of atomic densities)\n",
    "- func_h  : 'high-level-theory' fragment functional\n",
    "- func_l  : 'low-level-theory' fragment functional\n",
    "- exmodel : exact exchange model, default = 0\n",
    "- wfn     : Psi4 wavefunction object (correspondig to 'func_l' run"
   ]
  },
  {
   "cell_type": "code",
   "execution_count": 2,
   "id": "6af1f5d0",
   "metadata": {},
   "outputs": [
    {
     "name": "stdout",
     "output_type": "stream",
     "text": [
      "F(BO) dim: 13,13\n",
      "\n"
     ]
    }
   ],
   "source": [
    "Cocc = np.array(wfn.Ca_subset('AO','OCC'))\n",
    "\n",
    "try:\n",
    "    U_inv = np.linalg.inv(U)\n",
    "except np.linalg.LinAlgError:\n",
    "    print(\"Error in numpy.linalg.inv of inputted matrix\")\n",
    "\n",
    "Cocc = np.matmul(U_inv,Cocc)\n",
    "Dinput = np.matmul(Cocc,Cocc.T)\n",
    "fockbase = fock_factory(jkobj,H,Stilde,funcname=func_low,basisobj=bset) #Stilde as overlap matrix\n",
    "F_bblock = fockbase.get_bblock_Fock(Dmat=Dinput,func_acc=func_high,basis_acc=bsetH,U=U)\n",
    "\n",
    "print(\"F(BO) dim: %i,%i\\n\" % (F_bblock.shape[0],F_bblock.shape[1]))\n",
    "\n"
   ]
  },
  {
   "cell_type": "code",
   "execution_count": 3,
   "id": "c432b754",
   "metadata": {},
   "outputs": [],
   "source": [
    "#define the embopt dataclass\n",
    "import fde_utils\n",
    "from fde_utils import embedoption\n",
    "pyembopt = embedoption\n",
    "pyembopt.nofde = True #skip FDE=True, normally passed from input as --fde -> pyembopt.nofde = not args.fde "
   ]
  },
  {
   "cell_type": "code",
   "execution_count": 4,
   "id": "325a1d9e",
   "metadata": {},
   "outputs": [
    {
     "name": "stdout",
     "output_type": "stream",
     "text": [
      "Overlap_AA in BO is Overlap_AA in AO: True\n",
      "Overlap_AB in BO is zero: True\n",
      "using EX model: ......... 0\n",
      "\n",
      "\n",
      "Number of occupied orbitals: 5\n",
      "\n",
      "using as guess the density from the low level theory hamiltonian\n",
      "\n",
      "Start SCF iterations:\n",
      "\n",
      "\n",
      "SCF Iteration   1: Energy = -75.9665486008692596   dE = -7.59665E+01   dRMS = 2.94704E-03\n",
      "SCF Iteration   2: Energy = -75.9671085193958930   dE = -5.59919E-04   dRMS = 7.81185E-04\n",
      "SCF Iteration   3: Energy = -75.9671176740689305   dE = -9.15467E-06   dRMS = 8.30754E-04\n",
      "SCF Iteration   4: Energy = -75.9671555676763006   dE = -3.78936E-05   dRMS = 3.54256E-05\n",
      "SCF Iteration   5: Energy = -75.9671556979076428   dE = -1.30231E-07   dRMS = 5.26205E-06\n",
      "SCF Iteration   6: Energy = -75.9671557000909417   dE = -2.18330E-09   dRMS = 2.26854E-07\n",
      "SCF Iteration   7: Energy = -75.9671557000964128   dE = -5.47118E-12   dRMS = 3.42207E-08\n",
      "SCF Iteration   8: Energy = -75.9671557000964981   dE = -8.52651E-14   dRMS = 1.58173E-09\n",
      "Total time for SCF iterations: 4.074 seconds \n",
      "\n",
      "\n",
      "Final scf BO energy: -75.96715570 hartree\n",
      "\n",
      "Orbital (BO) Energies [Eh]\n",
      "\n",
      "Doubly Occupied:\n",
      "\n",
      "1A : -18.991038\n",
      "2A : -0.986969\n",
      "3A : -0.499914\n",
      "4A : -0.320740\n",
      "5A : -0.255990\n",
      "Virtual:\n",
      "\n",
      "6A : 0.095875\n",
      "7A : 0.188004\n",
      "8A : 0.897964\n",
      "9A : 0.992618\n",
      "10A : 1.441790\n",
      "11A : 1.516456\n",
      "12A : 1.638742\n",
      "13A : 2.744814\n",
      "Final SCF (Density Corrected) energy: -75.94983229 hartree\n",
      "\n",
      "\n",
      "electric dipole moment in ea0\n",
      "\n",
      "x : 0.00000000, y : -0.02378045, z : 7.88640058\n",
      "\n",
      "Compare wfn.Da() and Dscf. SUCCESS: False\n",
      "\n",
      "Max of the abs density difference : 1.040138048771e-02\n",
      "\n"
     ]
    }
   ],
   "source": [
    "\n",
    "res, wfnBO = run(jkobj,psi4mol,bset,bsetH,'GS',func_high,func_low,0,wfn,pyembopt)\n"
   ]
  },
  {
   "cell_type": "markdown",
   "id": "1b762136",
   "metadata": {},
   "source": [
    "REF:<br>\n",
    "Doubly Occupied:\n",
    "\n",
    "1A : -18.991038<br>\n",
    "2A : -0.986969<br>\n",
    "3A : -0.499914<br>\n",
    "4A : -0.320740<br>\n",
    "5A : -0.255990<br>\n",
    "\n",
    "Virtual:\n",
    "\n",
    "6A : 0.095875<br>\n",
    "7A : 0.188004<br>\n",
    "8A : 0.897964<br>\n",
    "9A : 0.992618<br>\n",
    "10A : 1.441790<br>\n",
    "11A : 1.516456<br>\n",
    "12A : 1.638742<br>\n",
    "13A : 2.744814<br>\n",
    "\n",
    "Final SCF (Density Corrected) energy: -75.94983225 hartree\n",
    "\n",
    "\n",
    "electric dipole moment in ea0\n",
    "\n",
    "x : 0.00000000, y : -0.02378043, z : 7.88640059\n",
    "\n",
    "Compare wfn.Da() and Dscf. SUCCESS: False\n",
    "\n",
    "Max of the abs density difference : 1.040138319658e-02"
   ]
  },
  {
   "cell_type": "code",
   "execution_count": 5,
   "id": "15f6ebd6",
   "metadata": {},
   "outputs": [
    {
     "name": "stdout",
     "output_type": "stream",
     "text": [
      "Doubly Occupied: (blyp / b3lyp-in-blyp)\n",
      "\n",
      "1A : -18.637661 | -18.991038\n",
      "2A : -0.890960 | -0.986969\n",
      "3A : -0.446978 | -0.499914\n",
      "4A : -0.255321 | -0.320740\n",
      "5A : -0.185924 | -0.255990\n",
      "Virtual:\n",
      "\n",
      "6A : 0.071694 | 0.095875\n",
      "7A : 0.162360 | 0.188004\n",
      "8A : 0.879981 | 0.897964\n",
      "9A : 0.952293 | 0.992618\n",
      "10A : 1.370386 | 1.441790\n",
      "11A : 1.447223 | 1.516456\n",
      "12A : 1.571051 | 1.638742\n",
      "13A : 2.679564 | 2.744814\n"
     ]
    }
   ],
   "source": [
    "#compare the b3lyp-in-blyp orbital enegies/total energy to pure blylp\n",
    "eps_a = np.array( wfn.epsilon_a() )\n",
    "ndocc = wfnBO['ndocc']\n",
    "print('Doubly Occupied: (%s / %s-in-%s)\\n' % (func_low,func_high,func_low))\n",
    "for k in range(ndocc):\n",
    "    print('%iA : %.6f | %.6f' %(k+1,eps_a[k],wfnBO['epsilon_a'][k]))\n",
    "\n",
    "print('Virtual:\\n')\n",
    "\n",
    "for k in range(ndocc,numbas):\n",
    "    print('%iA : %.6f | %.6f'% (k+1,eps_a[k],wfnBO['epsilon_a'][k]))\n"
   ]
  },
  {
   "cell_type": "code",
   "execution_count": 6,
   "id": "32e1f32a",
   "metadata": {},
   "outputs": [],
   "source": [
    "#get Density matrix and Fock(0) from wfnBO\n",
    "\n",
    "tD = wfnBO['Dmtx']\n",
    "tFock = wfnBO['Fock']\n",
    "U = wfnBO['Umat']\n",
    "C = wfnBO['Ccoeff'] \n",
    "Stilde = wfnBO['Ovap'] \n",
    "# get rt params\n",
    "from rt_mod import set_params\n",
    "pulse_opts, calc_params = set_params('./ipynotebook/input.inp')\n",
    "delta_t = calc_params['delta_t']\n"
   ]
  },
  {
   "cell_type": "code",
   "execution_count": 7,
   "id": "616c6957",
   "metadata": {},
   "outputs": [],
   "source": [
    "#initialize the mints object\n",
    "mints = psi4.core.MintsHelper(bset)\n",
    "#intialize fock_factory\n",
    "from Fock_helper import fock_factory\n",
    "Hcore = np.asarray(mints.ao_potential()) + np.asarray(mints.ao_kinetic())\n",
    "\n",
    "fock_base = fock_factory(jkobj,Hcore,Stilde, \\\n",
    "                            funcname=func_low,basisobj=bset,exmodel=0)\n"
   ]
  },
  {
   "cell_type": "code",
   "execution_count": 8,
   "id": "479eeec2",
   "metadata": {},
   "outputs": [],
   "source": [
    "#dip_mat is transformed in the BO basis\n",
    "dipole=mints.ao_dipole()\n",
    "direction = 2 # i.e z-dir\n",
    "dip_mat=np.matmul(U.T,np.matmul(np.array(dipole[direction]),U))\n"
   ]
  },
  {
   "cell_type": "markdown",
   "id": "cfcbabdf",
   "metadata": {},
   "source": [
    "class **real_time**():\n",
    "\n",
    "initialization params:\n",
    "\n",
    "- *Dinit* : intial density matrix (t=0)\n",
    "- *Fock_init* : guess Fock matrix\n",
    "- *fock_factory* : fock factory object\n",
    "- *ndocc* : number of doubly occupied MO\n",
    "- *basis* : supermolecular basis set object\n",
    "- *Smat* : overlap matrix (representation dependent, can be either BO or AO)\n",
    "- *pulse_opts* : pulse paramter dictionary\n",
    "- *delta_t* : time-step\n",
    "- *Cmat* : matrix used get the relevant quantities to the propagation basis Cmat = $C_{coeff}$ {or $S^{-1/2}$}\n",
    "- *dipmat* : matrix representation of dipole operator (either on BO or AO basis)\n",
    "- out_file=sys.stderr :output err file\n",
    "\n",
    "the following parameters have defaults values, if not speciefied  the real-time object \n",
    "should lead to the same results of supermolecular calculation.\n",
    "\n",
    "- basis_acc = None : the small 'high-level-theory' basis set object\n",
    "- func_acc=None : the 'high-level-theory' functional\n",
    "- U=None : the U matrix -> $\\tilde{S} = U^{T}SU$\n",
    "- local_basis=False : Bool, enable local basis (RLMO localization scheme)\n",
    "- exA_only=False : Bool , restrict the excitation to basis_acc subblock elements (nbfA $\\times$ nbfA) of dipole\n",
    "- occlist=None : a list containting identifiers of occupied MOs, to be used in occ->virt excitation\n",
    "- virtlist=None : a list containting identifiers of virtual MOs\n"
   ]
  },
  {
   "cell_type": "code",
   "execution_count": 9,
   "id": "55205f11",
   "metadata": {},
   "outputs": [],
   "source": [
    "from rt_base import real_time\n",
    "rt_prop = real_time(tD, tFock, fock_base, ndocc, bset, Stilde, pulse_opts, delta_t, C, dip_mat,\\\n",
    "            out_file=sys.stderr,  basis_acc = bsetH, func_acc=func_high,U=U,local_basis=False,\\\n",
    "                                             exA_only=False,occlist=None, virtlist=None)"
   ]
  },
  {
   "cell_type": "code",
   "execution_count": 10,
   "id": "0080fbe8",
   "metadata": {},
   "outputs": [
    {
     "name": "stdout",
     "output_type": "stream",
     "text": [
      "Perturb density with analytic delta\n",
      "Dipole matrix is transformed to the MO basis\n",
      "\n",
      "Local basis: False\n",
      "\n"
     ]
    }
   ],
   "source": [
    "Dp_init , Da = rt_prop.init_boost()"
   ]
  },
  {
   "cell_type": "code",
   "execution_count": 11,
   "id": "a0085a4d",
   "metadata": {},
   "outputs": [],
   "source": [
    "rt_prop()"
   ]
  },
  {
   "cell_type": "code",
   "execution_count": 12,
   "id": "81eb3559",
   "metadata": {},
   "outputs": [
    {
     "name": "stdout",
     "output_type": "stream",
     "text": [
      "1\n"
     ]
    }
   ],
   "source": [
    "print(rt_prop.iter_num())"
   ]
  },
  {
   "cell_type": "code",
   "execution_count": 13,
   "id": "9471acdd",
   "metadata": {},
   "outputs": [],
   "source": [
    "for k in range(rt_prop.iter_num(),10):\n",
    "    rt_prop()"
   ]
  },
  {
   "cell_type": "code",
   "execution_count": null,
   "id": "a40fb720",
   "metadata": {},
   "outputs": [],
   "source": []
  },
  {
   "cell_type": "code",
   "execution_count": null,
   "id": "b516583d",
   "metadata": {},
   "outputs": [],
   "source": []
  }
 ],
 "metadata": {
  "kernelspec": {
   "display_name": "Python 3 (ipykernel)",
   "language": "python",
   "name": "python3"
  },
  "language_info": {
   "codemirror_mode": {
    "name": "ipython",
    "version": 3
   },
   "file_extension": ".py",
   "mimetype": "text/x-python",
   "name": "python",
   "nbconvert_exporter": "python",
   "pygments_lexer": "ipython3",
   "version": "3.8.17"
  }
 },
 "nbformat": 4,
 "nbformat_minor": 5
}
